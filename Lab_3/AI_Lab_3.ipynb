{
  "nbformat": 4,
  "nbformat_minor": 0,
  "metadata": {
    "colab": {
      "provenance": [],
      "toc_visible": true
    },
    "kernelspec": {
      "name": "python3",
      "display_name": "Python 3"
    },
    "language_info": {
      "name": "python"
    }
  },
  "cells": [
    {
      "cell_type": "code",
      "execution_count": 2,
      "metadata": {
        "colab": {
          "base_uri": "https://localhost:8080/"
        },
        "id": "gVSRyjfqPKXk",
        "outputId": "547f9700-435d-4f60-ff3f-73656afcb5f7"
      },
      "outputs": [
        {
          "output_type": "execute_result",
          "data": {
            "text/plain": [
              "['A', 'B', 'C', 'D', 'E', 'F', 'G', 'H', 'I']"
            ]
          },
          "metadata": {},
          "execution_count": 2
        }
      ],
      "source": [
        "tree = {\n",
        "    'A':['B','C'],\n",
        "    'B':['D','E'],\n",
        "    'C':['F','G'],\n",
        "    'D':['H'],\n",
        "    'E':[],\n",
        "    'F':['I'],\n",
        "    'G':[],\n",
        "    'H':[],\n",
        "    'I':[]\n",
        "}\n",
        "\n",
        "def bfs(tree, root,goal):\n",
        "    visited = []\n",
        "    queue = [root]\n",
        "\n",
        "    while queue:\n",
        "        node = queue.pop(0)\n",
        "        if node not in visited:\n",
        "            visited.append(node)\n",
        "            if node == goal:\n",
        "                return visited\n",
        "            else:\n",
        "                queue.extend(tree[node])\n",
        "    return visited\n",
        "\n",
        "class Environment:\n",
        "    def __init__(self):\n",
        "      pass\n",
        "\n",
        "class Agent:\n",
        "  def act(self,percept,graph):\n",
        "      bfs(graph,percept)\n",
        "\n",
        "\n",
        "\n",
        "bfs(tree,'A','I')"
      ]
    },
    {
      "cell_type": "code",
      "source": [
        "tree = {\n",
        "    'A':['B','C'],\n",
        "    'B':['D','E'],\n",
        "    'C':['F','G'],\n",
        "    'D':['H'],\n",
        "    'E':[],\n",
        "    'F':['I'],\n",
        "    'G':[],\n",
        "    'H':[],\n",
        "    'I':[]\n",
        "}\n",
        "\n",
        "def bfs(tree, root,goal):\n",
        "    visited = []\n",
        "    queue = [[root]]\n",
        "\n",
        "    while queue:\n",
        "        path = queue.pop(0)\n",
        "        node = path[-1]\n",
        "        if node not in visited:\n",
        "            visited.append(node)\n",
        "            if node == goal:\n",
        "                return path\n",
        "            else:\n",
        "                for neighbor in tree[node]:\n",
        "                    new_path = list(path)\n",
        "                    new_path.append(neighbor)\n",
        "                    queue.append(new_path)\n",
        "    return None\n",
        "\n",
        "class Environment:\n",
        "def __init__(self, graph):\n",
        "#Initial graph/tree/maze\n",
        "self.graph = graph\n",
        "def get_percept(self, node):\n",
        "return node\n",
        "\n",
        "class Agent:\n",
        "    def __init__(self, goal):\n",
        "        self.goal = goal\n",
        "\n",
        "    def act(self, percept, graph):\n",
        "        path = bfs(graph, percept, self.goal)\n",
        "        if path is None:\n",
        "            return None\n",
        "\n",
        "        if len(path) > 1:\n",
        "            next_action = path[1]\n",
        "            return next_action\n",
        "        else:\n",
        "            return None # Already at goal\n",
        "\n",
        "\n"
      ],
      "metadata": {
        "colab": {
          "base_uri": "https://localhost:8080/"
        },
        "id": "bcZEy6MeSVOb",
        "outputId": "f2f7dc48-73bd-40c5-ba89-e78a8f016797"
      },
      "execution_count": 5,
      "outputs": [
        {
          "output_type": "stream",
          "name": "stdout",
          "text": [
            "Agent moved from C to C\n",
            "Agent moved from F to F\n",
            "Agent moved from I to I\n",
            "Agent reached the goal: I\n"
          ]
        }
      ]
    },
    {
      "cell_type": "markdown",
      "source": [
        "# New Section"
      ],
      "metadata": {
        "id": "WUHuCbq1kGX7"
      }
    },
    {
      "cell_type": "code",
      "source": [
        "\n",
        "\n",
        "tree = {\n",
        "    'A':['B','C'],\n",
        "    'B':['D','E'],\n",
        "    'C':['F','G'],\n",
        "    'D':['H'],\n",
        "    'E':[],\n",
        "    'F':['I'],\n",
        "    'G':[],\n",
        "    'H':[],\n",
        "    'I':[]\n",
        "}\n",
        "\n",
        "def dfs(graph, start, goal):\n",
        "    visited, stack = set(), [start]\n",
        "    while stack:\n",
        "        vertex = stack.pop()\n",
        "        if vertex not in visited:\n",
        "            visited.add(vertex)\n",
        "            if vertex == goal:\n",
        "                return visited\n",
        "            stack.extend(set(graph[vertex]) - visited)\n",
        "    return visited\n",
        "\n",
        "print(dfs(tree, 'A', 'I'))\n"
      ],
      "metadata": {
        "colab": {
          "base_uri": "https://localhost:8080/"
        },
        "id": "NzRibuO6c9ry",
        "outputId": "e122fdae-865d-4850-81c0-8036e3d51f99"
      },
      "execution_count": 6,
      "outputs": [
        {
          "output_type": "stream",
          "name": "stdout",
          "text": [
            "{'C', 'A', 'I', 'F'}\n"
          ]
        }
      ]
    },
    {
      "cell_type": "code",
      "source": [
        "import random\n",
        "class Environment:\n",
        "  def __init__(self, graph):\n",
        "    self.graph = graph\n",
        "  def get_percept(self, node):\n",
        "    return node\n",
        "\n",
        "\n",
        "class GoalBasedAgent:\n",
        "  def __init__(self, goal):\n",
        "    self.goal = goal\n",
        "\n",
        "  def formulate_goal(self, percept):\n",
        "    if percept == self.goal:\n",
        "        return \"Goal reached\"\n",
        "    return \"Searching\"\n",
        "\n",
        "  def bfs(self,graph,root,goal):\n",
        "    visited = []\n",
        "    queue = [root]\n",
        "\n",
        "    while queue:\n",
        "        node = queue.pop(0)\n",
        "        if node not in visited:\n",
        "            visited.append(node)\n",
        "            if node == goal:\n",
        "                print(\"Goal Reached\")\n",
        "                return visited\n",
        "            else:\n",
        "                queue.extend(tree[node])\n",
        "    return visited\n",
        "  def dfs(self,graph,root,goal):\n",
        "    visited, stack = set(), [root]\n",
        "    while stack:\n",
        "        vertex = stack.pop()\n",
        "        if vertex not in visited:\n",
        "            visited.add(vertex)\n",
        "\n",
        "  def act(self,percept):\n",
        "    status =self.formulate_goal(percept)\n",
        "    if status==\"Goal reached\":\n",
        "      return \"Goal reached\"\n",
        "    return self.search(random.choice(list([\"bfs\",\"dfs\"])))\n",
        "  def search(self,algo):\n",
        "    if algo==\"bfs\":\n",
        "      return self.bfs.search()\n",
        "    return self.dfs.search()\n",
        "\n",
        "def run_agent(agent, environment, start_node):\n",
        "  percept = environment.get_percept(start_node)\n",
        "  action = agent.act(percept, environment.graph)\n",
        "  print(action)\n",
        "\n",
        "tree = {\n",
        "    'A':['B','C'],\n",
        "    'B':['D','E'],\n",
        "    'C':['F','G'],\n",
        "    'D':['H'],\n",
        "    'E':[],\n",
        "    'F':['I'],\n",
        "    'G':[],\n",
        "    'H':[],\n",
        "    'I':[]\n",
        "}\n",
        "\n",
        "start_node = 'A'\n",
        "goal_node = 'I'\n",
        "agent = GoalBasedAgent(goal_node)\n",
        "environment = Environment(tree)\n",
        "run_agent(agent, environment, start_node)\n",
        ""
      ],
      "metadata": {
        "id": "6ineFoFJkMh8"
      },
      "execution_count": null,
      "outputs": []
    }
  ]
}